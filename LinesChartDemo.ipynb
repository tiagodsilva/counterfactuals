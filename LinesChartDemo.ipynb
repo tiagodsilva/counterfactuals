{
 "cells": [
  {
   "cell_type": "code",
   "execution_count": 1,
   "metadata": {},
   "outputs": [],
   "source": [
    "import ccwidget \n",
    "import pandas as pd \n",
    "import os "
   ]
  },
  {
   "cell_type": "code",
   "execution_count": 2,
   "metadata": {},
   "outputs": [],
   "source": [
    "linedata = {} \n",
    "nSteps = 3 \n",
    "dataPath = \"parallelCoordinates/projection/data/\" \n",
    "for i in range(nSteps): \n",
    "    linedata[i] = {} \n",
    "    path = dataPath + \"recFiltering/Step\" + str(i) + \"/\" \n",
    "    for file in os.listdir(path): \n",
    "        linedata[i][file[:-4]] = pd.read_csv(path + file).rename(columns = {\"Unnamed: 0\": \"\"}) "
   ]
  },
  {
   "cell_type": "code",
   "execution_count": 3,
   "metadata": {},
   "outputs": [],
   "source": [
    "lines = ccwidget.CFLines(linedata, lambda x: print(x))  "
   ]
  },
  {
   "cell_type": "code",
   "execution_count": 4,
   "metadata": {
    "scrolled": false
   },
   "outputs": [
    {
     "data": {
      "application/vnd.jupyter.widget-view+json": {
       "model_id": "1c317a684b8f4f0dba1a46a16269e0ff",
       "version_major": 2,
       "version_minor": 0
      },
      "text/plain": [
       "Lines(cfData={0: {'WaterSupply': [{'': 0.0, '1': 0.0}, {'': 0.16666666666666666, '1': 0.0}, {'': 0.33333333333…"
      ]
     },
     "metadata": {},
     "output_type": "display_data"
    },
    {
     "name": "stdout",
     "output_type": "stream",
     "text": [
      "{'WaterSupply': None, 'Schools': None, 'Passengers': None, 'Verticalization': None, 'Favelas': None, 'ImprovisedHousing': None, 'PermanentHousing': None, 'order': None, 'LiterateHouseHolder': None, 'GarbageCollection': None, 'YoungManRate': None, 'FontainArea': None, 'BusStops': None, 'SewageCollection': None, 'PopulationDensity': None, 'selection': None, 'WomanHouseHolder': None, '.~lock.order.': None, 'ExpansionPhase': None, 'Population': None, 'Bars': None, 'TravelingTime': None, 'HighRiskAreas': None, 'HighIncomeHolder': None}\n"
     ]
    }
   ],
   "source": [
    "lines.widget "
   ]
  },
  {
   "cell_type": "code",
   "execution_count": 11,
   "metadata": {},
   "outputs": [
    {
     "name": "stdout",
     "output_type": "stream",
     "text": [
      "Hello World!\n"
     ]
    }
   ],
   "source": [
    "print(\"Hello World!\") "
   ]
  }
 ],
 "metadata": {
  "kernelspec": {
   "display_name": "Python 3",
   "language": "python",
   "name": "python3"
  },
  "language_info": {
   "codemirror_mode": {
    "name": "ipython",
    "version": 3
   },
   "file_extension": ".py",
   "mimetype": "text/x-python",
   "name": "python",
   "nbconvert_exporter": "python",
   "pygments_lexer": "ipython3",
   "version": "3.8.3"
  }
 },
 "nbformat": 4,
 "nbformat_minor": 4
}
