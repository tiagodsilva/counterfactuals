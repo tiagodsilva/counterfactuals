{
 "cells": [
  {
   "cell_type": "code",
   "execution_count": 1,
   "metadata": {},
   "outputs": [],
   "source": [
    "import ccwidget \n",
    "import pandas as pd \n",
    "import os "
   ]
  },
  {
   "cell_type": "markdown",
   "metadata": {},
   "source": [
    "## Pre-loading data to ease the simulation"
   ]
  },
  {
   "cell_type": "code",
   "execution_count": 2,
   "metadata": {},
   "outputs": [],
   "source": [
    "StepsData = {} \n",
    "nSteps = 3 \n",
    "dataPath = \"parallelCoordinates/projection/data/\"\n",
    "## just loading the variables name\n",
    "features = pd.read_csv(dataPath + 'recFiltering/Step0/order.csv')['0'].values\n",
    "\n",
    "for i in range(nSteps): \n",
    "    StepsData[i] = {}\n",
    "    path = dataPath + \"recFiltering/Step\" + str(i) + \"/\" \n",
    "    \n",
    "    StepsData[i]['order'] = pd.read_csv(path + 'order.csv').rename(columns = {\"Unnamed: 0\": \"\"}) \n",
    "    StepsData[i]['lines'] = {}\n",
    "    \n",
    "    \n",
    "    for feat in features: \n",
    "        StepsData[i]['lines'][feat] = pd.read_csv(path + feat +'.csv').rename(columns = {\"Unnamed: 0\": \"\"})"
   ]
  },
  {
   "cell_type": "markdown",
   "metadata": {},
   "source": [
    "### First step, no selection"
   ]
  },
  {
   "cell_type": "code",
   "execution_count": 3,
   "metadata": {},
   "outputs": [],
   "source": [
    "order = StepsData[0]['order']\n",
    "lines = StepsData[0]['lines'] "
   ]
  },
  {
   "cell_type": "code",
   "execution_count": 4,
   "metadata": {},
   "outputs": [],
   "source": [
    "linesCF = ccwidget.CFLines(lines, order, lambda x: print(x)) "
   ]
  },
  {
   "cell_type": "code",
   "execution_count": 5,
   "metadata": {
    "scrolled": false
   },
   "outputs": [
    {
     "data": {
      "application/vnd.jupyter.widget-view+json": {
       "model_id": "03f16b74f460452a998ef3fbe4e6e5d1",
       "version_major": 2,
       "version_minor": 0
      },
      "text/plain": [
       "Lines()"
      ]
     },
     "metadata": {},
     "output_type": "display_data"
    }
   ],
   "source": [
    "linesCF.widget "
   ]
  },
  {
   "cell_type": "markdown",
   "metadata": {},
   "source": [
    "### After"
   ]
  },
  {
   "cell_type": "code",
   "execution_count": 14,
   "metadata": {},
   "outputs": [],
   "source": [
    "linesCF.update_chart(StepsData[1][\"lines\"], StepsData[1][\"order\"]) "
   ]
  }
 ],
 "metadata": {
  "kernelspec": {
   "display_name": "Python 3",
   "language": "python",
   "name": "python3"
  },
  "language_info": {
   "codemirror_mode": {
    "name": "ipython",
    "version": 3
   },
   "file_extension": ".py",
   "mimetype": "text/x-python",
   "name": "python",
   "nbconvert_exporter": "python",
   "pygments_lexer": "ipython3",
   "version": "3.8.3"
  }
 },
 "nbformat": 4,
 "nbformat_minor": 4
}
