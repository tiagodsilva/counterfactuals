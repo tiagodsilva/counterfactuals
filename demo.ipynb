{
 "cells": [
  {
   "cell_type": "code",
   "execution_count": 1,
   "metadata": {},
   "outputs": [],
   "source": [
    "import ccwidget \n",
    "import pandas as pd "
   ]
  },
  {
   "cell_type": "code",
   "execution_count": 2,
   "metadata": {},
   "outputs": [],
   "source": [
    "dataPath = \"parallelCoordinates/projection/data/\" \n",
    "cfa = pd.read_csv(dataPath + \"cfa.csv\") \n",
    "cfa = cfa.rename(columns = {\"Unnamed: 0\": \"\"}) \n",
    "dist = pd.read_csv(dataPath + \"distAllCFA_355030804000048.csv\") \n",
    "cfr_cfs = pd.read_csv(dataPath + \"CFS2CFR_355030804000048.csv\") \n",
    "projection = pd.read_csv(dataPath + \"contra_Clusters_proj.csv\")  "
   ]
  },
  {
   "cell_type": "code",
   "execution_count": 3,
   "metadata": {
    "scrolled": true
   },
   "outputs": [
    {
     "data": {
      "text/plain": [
       "Index(['', 'Passengers', 'TravelingTime', 'HighRiskAreas', 'FontainArea',\n",
       "       'ExpansionPhase', 'Population', 'Favelas', 'WaterSupply',\n",
       "       'HighIncomeHolder', 'LiterateHouseHolder', 'WomanHouseHolder',\n",
       "       'PopulationDensity', 'ImprovisedHousing', 'PermanentHousing',\n",
       "       'SewageCollection', 'GarbageCollection', 'YoungManRate',\n",
       "       'Verticalization', 'Bars', 'Schools', 'BusStops'],\n",
       "      dtype='object')"
      ]
     },
     "execution_count": 3,
     "metadata": {},
     "output_type": "execute_result"
    }
   ],
   "source": [
    "cfa.columns "
   ]
  },
  {
   "cell_type": "code",
   "execution_count": 4,
   "metadata": {},
   "outputs": [],
   "source": [
    "overview = ccwidget.CFOverview(cfa, dist, cfr_cfs, projection)  "
   ]
  },
  {
   "cell_type": "code",
   "execution_count": 5,
   "metadata": {},
   "outputs": [
    {
     "data": {
      "application/vnd.jupyter.widget-view+json": {
       "model_id": "b4608a6dc1494f42abbad539bc5aa3e5",
       "version_major": 2,
       "version_minor": 0
      },
      "text/plain": [
       "Projection(cfa=[{'': 'Orig', 'Passengers': 1.5580999999999998, 'TravelingTime': 35.3, 'HighRiskAreas': 0.0, 'F…"
      ]
     },
     "metadata": {},
     "output_type": "display_data"
    }
   ],
   "source": [
    "import ccwidget \n",
    "overview = ccwidget.CFOverview(cfa, dist, cfr_cfs, projection)  \n",
    "overview.widget "
   ]
  }
 ],
 "metadata": {
  "kernelspec": {
   "display_name": "Python 3",
   "language": "python",
   "name": "python3"
  },
  "language_info": {
   "codemirror_mode": {
    "name": "ipython",
    "version": 3
   },
   "file_extension": ".py",
   "mimetype": "text/x-python",
   "name": "python",
   "nbconvert_exporter": "python",
   "pygments_lexer": "ipython3",
   "version": "3.8.3"
  }
 },
 "nbformat": 4,
 "nbformat_minor": 4
}
