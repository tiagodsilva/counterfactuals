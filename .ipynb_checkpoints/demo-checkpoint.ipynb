{
 "cells": [
  {
   "cell_type": "code",
   "execution_count": 3,
   "metadata": {},
   "outputs": [],
   "source": [
    "import ccwidget \n",
    "import pandas as pd \n",
    "import os "
   ]
  },
  {
   "cell_type": "code",
   "execution_count": 2,
   "metadata": {},
   "outputs": [
    {
     "data": {
      "text/html": [
       "\n",
       "<style>\n",
       "    div#notebook-container    { width: 99%; }\n",
       "    div#menubar-container     { width: 85%; }\n",
       "    div#maintoolbar-container { width: 99%; }\n",
       "</style>\n"
      ],
      "text/plain": [
       "<IPython.core.display.HTML object>"
      ]
     },
     "metadata": {},
     "output_type": "display_data"
    }
   ],
   "source": [
    "# %matplotlib widget\n",
    "# import matplotlib.pyplot as plt\n",
    "\n",
    "# plt.rcParams.update({'figure.max_open_warning': 0})\n",
    "\n",
    "# from IPython.core.display import display, HTML\n",
    "# display(HTML(data=\"\"\"\n",
    "# <style>\n",
    "#     div#notebook-container    { width: 99%; }\n",
    "#     div#menubar-container     { width: 85%; }\n",
    "#     div#maintoolbar-container { width: 99%; }\n",
    "# </style>\n",
    "# \"\"\"))"
   ]
  },
  {
   "cell_type": "code",
   "execution_count": 4,
   "metadata": {},
   "outputs": [],
   "source": [
    "dataPath = \"parallelCoordinates/projection/data/\" \n",
    "cfa = pd.read_csv(dataPath + \"cfa.csv\") \n",
    "cfa = cfa.rename(columns = {\"Unnamed: 0\": \"\"}) \n",
    "dist = pd.read_csv(dataPath + \"distAllCFA_355030804000048.csv\") \n",
    "cfr_cfs = pd.read_csv(dataPath + \"CFS2CFR_355030804000048.csv\") \n",
    "projection = pd.read_csv(dataPath + \"contra_Clusters_proj.csv\")\n",
    "dist_orig_real = pd.read_csv(dataPath + \"dist_orig_real_355030804000048.csv\")\n",
    "dist_orig_real = dist_orig_real.rename(columns = {\"Unnamed: 0\": \"Name\"}) "
   ]
  },
  {
   "cell_type": "code",
   "execution_count": 5,
   "metadata": {},
   "outputs": [],
   "source": [
    "linedata = {} \n",
    "nSteps = 3 \n",
    "for i in range(nSteps): \n",
    "    linedata[i] = {} \n",
    "    path = dataPath + \"recFiltering/Step\" + str(i) + \"/\" \n",
    "    for file in os.listdir(path): \n",
    "        linedata[i][file[:-4]] = pd.read_csv(path + file).rename(columns = {\"Unnamed: 0\": \"\"}) "
   ]
  },
  {
   "cell_type": "code",
   "execution_count": 6,
   "metadata": {},
   "outputs": [
    {
     "data": {
      "text/html": [
       "<div>\n",
       "<style scoped>\n",
       "    .dataframe tbody tr th:only-of-type {\n",
       "        vertical-align: middle;\n",
       "    }\n",
       "\n",
       "    .dataframe tbody tr th {\n",
       "        vertical-align: top;\n",
       "    }\n",
       "\n",
       "    .dataframe thead th {\n",
       "        text-align: right;\n",
       "    }\n",
       "</style>\n",
       "<table border=\"1\" class=\"dataframe\">\n",
       "  <thead>\n",
       "    <tr style=\"text-align: right;\">\n",
       "      <th></th>\n",
       "      <th>Name</th>\n",
       "      <th>DistOrig</th>\n",
       "      <th>DistCFR</th>\n",
       "    </tr>\n",
       "  </thead>\n",
       "  <tbody>\n",
       "    <tr>\n",
       "      <th>0</th>\n",
       "      <td>Orig</td>\n",
       "      <td>0.000000</td>\n",
       "      <td>0.051904</td>\n",
       "    </tr>\n",
       "    <tr>\n",
       "      <th>1</th>\n",
       "      <td>CFS1</td>\n",
       "      <td>0.081728</td>\n",
       "      <td>0.129575</td>\n",
       "    </tr>\n",
       "    <tr>\n",
       "      <th>2</th>\n",
       "      <td>CFS2</td>\n",
       "      <td>0.063764</td>\n",
       "      <td>0.134465</td>\n",
       "    </tr>\n",
       "    <tr>\n",
       "      <th>3</th>\n",
       "      <td>CFS3</td>\n",
       "      <td>0.046485</td>\n",
       "      <td>0.056232</td>\n",
       "    </tr>\n",
       "    <tr>\n",
       "      <th>4</th>\n",
       "      <td>CFS4</td>\n",
       "      <td>0.085491</td>\n",
       "      <td>0.132890</td>\n",
       "    </tr>\n",
       "    <tr>\n",
       "      <th>...</th>\n",
       "      <td>...</td>\n",
       "      <td>...</td>\n",
       "      <td>...</td>\n",
       "    </tr>\n",
       "    <tr>\n",
       "      <th>158</th>\n",
       "      <td>CFR22</td>\n",
       "      <td>0.113958</td>\n",
       "      <td>0.000000</td>\n",
       "    </tr>\n",
       "    <tr>\n",
       "      <th>159</th>\n",
       "      <td>CFR23</td>\n",
       "      <td>0.102717</td>\n",
       "      <td>0.000000</td>\n",
       "    </tr>\n",
       "    <tr>\n",
       "      <th>160</th>\n",
       "      <td>CFR24</td>\n",
       "      <td>0.057425</td>\n",
       "      <td>0.000000</td>\n",
       "    </tr>\n",
       "    <tr>\n",
       "      <th>161</th>\n",
       "      <td>CFR25</td>\n",
       "      <td>0.051904</td>\n",
       "      <td>0.000000</td>\n",
       "    </tr>\n",
       "    <tr>\n",
       "      <th>162</th>\n",
       "      <td>CFR26</td>\n",
       "      <td>0.136533</td>\n",
       "      <td>0.000000</td>\n",
       "    </tr>\n",
       "  </tbody>\n",
       "</table>\n",
       "<p>163 rows × 3 columns</p>\n",
       "</div>"
      ],
      "text/plain": [
       "      Name  DistOrig   DistCFR\n",
       "0     Orig  0.000000  0.051904\n",
       "1     CFS1  0.081728  0.129575\n",
       "2     CFS2  0.063764  0.134465\n",
       "3     CFS3  0.046485  0.056232\n",
       "4     CFS4  0.085491  0.132890\n",
       "..     ...       ...       ...\n",
       "158  CFR22  0.113958  0.000000\n",
       "159  CFR23  0.102717  0.000000\n",
       "160  CFR24  0.057425  0.000000\n",
       "161  CFR25  0.051904  0.000000\n",
       "162  CFR26  0.136533  0.000000\n",
       "\n",
       "[163 rows x 3 columns]"
      ]
     },
     "execution_count": 6,
     "metadata": {},
     "output_type": "execute_result"
    }
   ],
   "source": [
    "dist_orig_real"
   ]
  },
  {
   "cell_type": "code",
   "execution_count": 7,
   "metadata": {},
   "outputs": [],
   "source": [
    "import numpy as np"
   ]
  },
  {
   "cell_type": "code",
   "execution_count": 8,
   "metadata": {},
   "outputs": [],
   "source": [
    "#allCFA = pd.DataFrame(np.random.rand(dist.shape[0], 10), index=dist.index)"
   ]
  },
  {
   "cell_type": "code",
   "execution_count": 9,
   "metadata": {},
   "outputs": [],
   "source": [
    "#allCFA"
   ]
  },
  {
   "cell_type": "code",
   "execution_count": 10,
   "metadata": {},
   "outputs": [
    {
     "data": {
      "text/plain": [
       "\"\\ncfs2cfr = pd.Series(cfr_cfs['2'], cfr_cfs['1'])\\ndist_orig_real = pd.DataFrame(index=allCFA.index, columns=['Name', 'DistOrig', 'DistCFR'])\\nfor cf in allCFA.index:\\n    dist_orig_real.loc[cf, 'Name'] = cf\\n    dist_orig_real.loc[cf, 'DistOrig'] = np.linalg.norm(allCFA.loc[cf]-allCFA.loc['Orig'])\\n    dist_orig_real.loc[cf, 'DistOrig'] = np.linalg.norm(allCFA.loc[cf]-allCFA.loc[cfs2cfr[cf]])\\n\""
      ]
     },
     "execution_count": 10,
     "metadata": {},
     "output_type": "execute_result"
    }
   ],
   "source": [
    "'''\n",
    "cfs2cfr = pd.Series(cfr_cfs['2'], cfr_cfs['1'])\n",
    "dist_orig_real = pd.DataFrame(index=allCFA.index, columns=['Name', 'DistOrig', 'DistCFR'])\n",
    "for cf in allCFA.index:\n",
    "    dist_orig_real.loc[cf, 'Name'] = cf\n",
    "    dist_orig_real.loc[cf, 'DistOrig'] = np.linalg.norm(allCFA.loc[cf]-allCFA.loc['Orig'])\n",
    "    dist_orig_real.loc[cf, 'DistOrig'] = np.linalg.norm(allCFA.loc[cf]-allCFA.loc[cfs2cfr[cf]])\n",
    "'''"
   ]
  },
  {
   "cell_type": "code",
   "execution_count": 11,
   "metadata": {},
   "outputs": [],
   "source": [
    "def on_select(clusters_in_hotspot): \n",
    "    print(clusters_in_hotspot) "
   ]
  },
  {
   "cell_type": "code",
   "execution_count": 12,
   "metadata": {},
   "outputs": [],
   "source": [
    "overview = ccwidget.CFOverview(cfa, dist, cfr_cfs, projection, dist_orig_real, on_select)  "
   ]
  },
  {
   "cell_type": "code",
   "execution_count": 13,
   "metadata": {},
   "outputs": [
    {
     "data": {
      "text/html": [
       "<div>\n",
       "<style scoped>\n",
       "    .dataframe tbody tr th:only-of-type {\n",
       "        vertical-align: middle;\n",
       "    }\n",
       "\n",
       "    .dataframe tbody tr th {\n",
       "        vertical-align: top;\n",
       "    }\n",
       "\n",
       "    .dataframe thead th {\n",
       "        text-align: right;\n",
       "    }\n",
       "</style>\n",
       "<table border=\"1\" class=\"dataframe\">\n",
       "  <thead>\n",
       "    <tr style=\"text-align: right;\">\n",
       "      <th></th>\n",
       "      <th>id</th>\n",
       "      <th>x</th>\n",
       "      <th>y</th>\n",
       "    </tr>\n",
       "  </thead>\n",
       "  <tbody>\n",
       "    <tr>\n",
       "      <th>0</th>\n",
       "      <td>Orig</td>\n",
       "      <td>0.0027</td>\n",
       "      <td>0.0102</td>\n",
       "    </tr>\n",
       "    <tr>\n",
       "      <th>1</th>\n",
       "      <td>CFS1</td>\n",
       "      <td>-0.0739</td>\n",
       "      <td>-0.0237</td>\n",
       "    </tr>\n",
       "    <tr>\n",
       "      <th>2</th>\n",
       "      <td>CFS2</td>\n",
       "      <td>-0.0631</td>\n",
       "      <td>-0.0020</td>\n",
       "    </tr>\n",
       "    <tr>\n",
       "      <th>3</th>\n",
       "      <td>CFS3</td>\n",
       "      <td>-0.0528</td>\n",
       "      <td>0.0251</td>\n",
       "    </tr>\n",
       "    <tr>\n",
       "      <th>4</th>\n",
       "      <td>CFS4</td>\n",
       "      <td>-0.0733</td>\n",
       "      <td>-0.0201</td>\n",
       "    </tr>\n",
       "    <tr>\n",
       "      <th>...</th>\n",
       "      <td>...</td>\n",
       "      <td>...</td>\n",
       "      <td>...</td>\n",
       "    </tr>\n",
       "    <tr>\n",
       "      <th>158</th>\n",
       "      <td>CFR22</td>\n",
       "      <td>0.0591</td>\n",
       "      <td>-0.0797</td>\n",
       "    </tr>\n",
       "    <tr>\n",
       "      <th>159</th>\n",
       "      <td>CFR23</td>\n",
       "      <td>-0.0810</td>\n",
       "      <td>0.0786</td>\n",
       "    </tr>\n",
       "    <tr>\n",
       "      <th>160</th>\n",
       "      <td>CFR24</td>\n",
       "      <td>0.0354</td>\n",
       "      <td>0.0408</td>\n",
       "    </tr>\n",
       "    <tr>\n",
       "      <th>161</th>\n",
       "      <td>CFR25</td>\n",
       "      <td>0.0324</td>\n",
       "      <td>0.0523</td>\n",
       "    </tr>\n",
       "    <tr>\n",
       "      <th>162</th>\n",
       "      <td>CFR26</td>\n",
       "      <td>-0.1228</td>\n",
       "      <td>-0.0030</td>\n",
       "    </tr>\n",
       "  </tbody>\n",
       "</table>\n",
       "<p>163 rows × 3 columns</p>\n",
       "</div>"
      ],
      "text/plain": [
       "        id       x       y\n",
       "0     Orig  0.0027  0.0102\n",
       "1     CFS1 -0.0739 -0.0237\n",
       "2     CFS2 -0.0631 -0.0020\n",
       "3     CFS3 -0.0528  0.0251\n",
       "4     CFS4 -0.0733 -0.0201\n",
       "..     ...     ...     ...\n",
       "158  CFR22  0.0591 -0.0797\n",
       "159  CFR23 -0.0810  0.0786\n",
       "160  CFR24  0.0354  0.0408\n",
       "161  CFR25  0.0324  0.0523\n",
       "162  CFR26 -0.1228 -0.0030\n",
       "\n",
       "[163 rows x 3 columns]"
      ]
     },
     "execution_count": 13,
     "metadata": {},
     "output_type": "execute_result"
    }
   ],
   "source": [
    "projection"
   ]
  },
  {
   "cell_type": "code",
   "execution_count": 12,
   "metadata": {
    "scrolled": false
   },
   "outputs": [
    {
     "data": {
      "application/vnd.jupyter.widget-view+json": {
       "model_id": "e05454e27bd948c495b7bdf4e32e382a",
       "version_major": 2,
       "version_minor": 0
      },
      "text/plain": [
       "Projection(cfa=[{'': 'Orig', 'Passengers': 1.5580999999999998, 'TravelingTime': 35.3, 'HighRiskAreas': 0.0, 'F…"
      ]
     },
     "metadata": {},
     "output_type": "display_data"
    },
    {
     "name": "stdout",
     "output_type": "stream",
     "text": [
      "['CFS34', 'CFS36', 'CFS38', 'CFS42', 'CFS44', 'CFS46', 'CFS47', 'CFS61', 'CFS62', 'CFS63', 'CFS64', 'CFS79', 'CFS116', 'CFS118', 'CFS119', 'CFS120', 'CFS123']\n"
     ]
    }
   ],
   "source": [
    "overview.widget "
   ]
  },
  {
   "cell_type": "code",
   "execution_count": null,
   "metadata": {},
   "outputs": [],
   "source": []
  }
 ],
 "metadata": {
  "kernelspec": {
   "display_name": "Python 3",
   "language": "python",
   "name": "python3"
  },
  "language_info": {
   "codemirror_mode": {
    "name": "ipython",
    "version": 3
   },
   "file_extension": ".py",
   "mimetype": "text/x-python",
   "name": "python",
   "nbconvert_exporter": "python",
   "pygments_lexer": "ipython3",
   "version": "3.8.3"
  }
 },
 "nbformat": 4,
 "nbformat_minor": 4
}
