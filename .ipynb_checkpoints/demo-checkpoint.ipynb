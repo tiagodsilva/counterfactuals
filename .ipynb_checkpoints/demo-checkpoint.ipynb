{
 "cells": [
  {
   "cell_type": "code",
   "execution_count": 1,
   "metadata": {},
   "outputs": [],
   "source": [
    "import ccwidget \n",
    "import pandas as pd "
   ]
  },
  {
   "cell_type": "code",
   "execution_count": 26,
   "metadata": {},
   "outputs": [],
   "source": [
    "dataPath = \"parallelCoordinates/projection/data/\" \n",
    "cfa = pd.read_csv(dataPath + \"allCFA_355030804000048.csv\") \n",
    "cfa = cfa.rename(columns = {\"Unnamed: 0\": \"counterfactuals\"}) \n",
    "dist = pd.read_csv(dataPath + \"distAllCFA_355030804000048.csv\") \n",
    "cfr_cfs = pd.read_csv(dataPath + \"CFS2CFR_355030804000048.csv\") \n",
    "projection = pd.read_csv(dataPath + \"contra_Clusters_proj.csv\")  "
   ]
  },
  {
   "cell_type": "code",
   "execution_count": 3,
   "metadata": {},
   "outputs": [],
   "source": [
    "overview = ccwidget.CFOverview(cfa, dist, cfr_cfs, projection)  "
   ]
  },
  {
   "cell_type": "code",
   "execution_count": 27,
   "metadata": {},
   "outputs": [
    {
     "data": {
      "application/vnd.jupyter.widget-view+json": {
       "model_id": "cbc696f50d2a4c2fbb8cf74682a8d5b1",
       "version_major": 2,
       "version_minor": 0
      },
      "text/plain": [
       "Projection(cfa=[{'Unnamed: 0': 'Orig', 'Passengers': 1.5580999999999998, 'TravelingTime': 35.3, 'HighRiskAreas…"
      ]
     },
     "metadata": {},
     "output_type": "display_data"
    }
   ],
   "source": [
    "overview.widget "
   ]
  }
 ],
 "metadata": {
  "kernelspec": {
   "display_name": "Python 3",
   "language": "python",
   "name": "python3"
  },
  "language_info": {
   "codemirror_mode": {
    "name": "ipython",
    "version": 3
   },
   "file_extension": ".py",
   "mimetype": "text/x-python",
   "name": "python",
   "nbconvert_exporter": "python",
   "pygments_lexer": "ipython3",
   "version": "3.8.3"
  }
 },
 "nbformat": 4,
 "nbformat_minor": 4
}
